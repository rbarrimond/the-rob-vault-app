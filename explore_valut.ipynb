{
 "metadata": {
  "language_info": {
   "codemirror_mode": {
    "name": "ipython",
    "version": 3
   },
   "file_extension": ".py",
   "mimetype": "text/x-python",
   "name": "python",
   "nbconvert_exporter": "python",
   "pygments_lexer": "ipython3",
   "version": "3.9.2-final"
  },
  "orig_nbformat": 2,
  "kernelspec": {
   "name": "python3",
   "display_name": "Python 3.9.2 64-bit ('venv': venv)",
   "metadata": {
    "interpreter": {
     "hash": "27f5eed70fff0aa95c8892d328a15aad6a27234e7b7348e9ceba62d6ef9cfb7d"
    }
   }
  }
 },
 "nbformat": 4,
 "nbformat_minor": 2,
 "cells": [
  {
   "cell_type": "code",
   "execution_count": 17,
   "metadata": {},
   "outputs": [],
   "source": [
    "import pandas as pd\n",
    "import requests\n",
    "import secrets\n",
    "from requests_oauthlib import OAuth2Session\n",
    "from oauthlib.oauth2 import BackendApplicationClient\n",
    "\n",
    "#\n",
    "# Read the creds\n",
    "#\n",
    "with open('/Users/robertbarrimond/.ssh/the_rob_vault_app_creds', 'r') as f:\n",
    "    client_id = f.readline().strip()\n",
    "    client_secret = f.readline().strip()\n",
    "    api_key = f.readline().strip()\n",
    "\n",
    "oauth = OAuth2Session(client_id=client_id)\n",
    "authorization_url, state = oauth.authorization_url('https://www.bungie.net/en/OAuth/Authorize')"
   ]
  },
  {
   "cell_type": "code",
   "execution_count": 18,
   "metadata": {},
   "outputs": [
    {
     "output_type": "execute_result",
     "data": {
      "text/plain": [
       "   applicationId                                  name  \\\n",
       "0           8750                        www.bungie.net   \n",
       "1           8751         Destiny 2 Companion (Android)   \n",
       "2          29067          Android test version (debug)   \n",
       "3          29068         Android Google Play (release)   \n",
       "4           8752             Destiny 2 Companion (iOS)   \n",
       "5          29065  iOS test version (debug and release)   \n",
       "6          29066  iOS App Store version (distribution)   \n",
       "\n",
       "                                         redirectUrl                     link  \\\n",
       "0                                                      https://www.bungie.net   \n",
       "1                                                     https://www.bungie.net/   \n",
       "2  com.bungieinc.bungiemobile.debug://oauth-redir...   https://www.bungie.net   \n",
       "3  com.bungieinc.bungiemobile://oauth-redirect/bu...   https://www.bungie.net   \n",
       "4                                                     https://www.bungie.net/   \n",
       "5    com.bungie.bungienet://oauth-redirect/bungienet   https://www.bungie.net   \n",
       "6    com.bungieinc.bungie://oauth-redirect/bungienet   https://www.bungie.net   \n",
       "\n",
       "  scope origin  status              creationDate             statusChanged  \\\n",
       "0     1              1  2016-05-19T20:20:45.929Z  2016-10-25T21:53:40.346Z   \n",
       "1     1              1  2016-05-19T20:20:45.945Z  2016-10-25T21:53:40.346Z   \n",
       "2    -1    NaN       1  2019-01-24T22:22:14.426Z  2019-01-24T22:22:14.426Z   \n",
       "3    -1    NaN       1  2019-01-24T22:22:14.426Z  2019-01-24T22:22:14.426Z   \n",
       "4     1              1  2016-05-19T20:20:45.945Z  2016-10-25T21:53:40.346Z   \n",
       "5    -1    NaN       1  2019-01-24T22:22:14.411Z  2019-01-24T22:22:14.411Z   \n",
       "6    -1    NaN       1  2019-01-24T22:22:14.426Z  2019-01-24T22:22:14.426Z   \n",
       "\n",
       "             firstPublished                                               team  \n",
       "0  2016-05-19T20:20:45.929Z  [{'role': 1, 'apiEulaVersion': 1, 'user': {'su...  \n",
       "1  2016-05-19T20:20:45.945Z  [{'role': 1, 'apiEulaVersion': 1, 'user': {'su...  \n",
       "2  2019-01-24T22:22:14.426Z                                                 []  \n",
       "3  2019-01-24T22:22:14.426Z                                                 []  \n",
       "4  2016-05-19T20:20:45.945Z  [{'role': 1, 'apiEulaVersion': 1, 'user': {'su...  \n",
       "5  2019-01-24T22:22:14.411Z                                                 []  \n",
       "6  2019-01-24T22:22:14.426Z                                                 []  "
      ],
      "text/html": "<div>\n<style scoped>\n    .dataframe tbody tr th:only-of-type {\n        vertical-align: middle;\n    }\n\n    .dataframe tbody tr th {\n        vertical-align: top;\n    }\n\n    .dataframe thead th {\n        text-align: right;\n    }\n</style>\n<table border=\"1\" class=\"dataframe\">\n  <thead>\n    <tr style=\"text-align: right;\">\n      <th></th>\n      <th>applicationId</th>\n      <th>name</th>\n      <th>redirectUrl</th>\n      <th>link</th>\n      <th>scope</th>\n      <th>origin</th>\n      <th>status</th>\n      <th>creationDate</th>\n      <th>statusChanged</th>\n      <th>firstPublished</th>\n      <th>team</th>\n    </tr>\n  </thead>\n  <tbody>\n    <tr>\n      <th>0</th>\n      <td>8750</td>\n      <td>www.bungie.net</td>\n      <td></td>\n      <td>https://www.bungie.net</td>\n      <td>1</td>\n      <td></td>\n      <td>1</td>\n      <td>2016-05-19T20:20:45.929Z</td>\n      <td>2016-10-25T21:53:40.346Z</td>\n      <td>2016-05-19T20:20:45.929Z</td>\n      <td>[{'role': 1, 'apiEulaVersion': 1, 'user': {'su...</td>\n    </tr>\n    <tr>\n      <th>1</th>\n      <td>8751</td>\n      <td>Destiny 2 Companion (Android)</td>\n      <td></td>\n      <td>https://www.bungie.net/</td>\n      <td>1</td>\n      <td></td>\n      <td>1</td>\n      <td>2016-05-19T20:20:45.945Z</td>\n      <td>2016-10-25T21:53:40.346Z</td>\n      <td>2016-05-19T20:20:45.945Z</td>\n      <td>[{'role': 1, 'apiEulaVersion': 1, 'user': {'su...</td>\n    </tr>\n    <tr>\n      <th>2</th>\n      <td>29067</td>\n      <td>Android test version (debug)</td>\n      <td>com.bungieinc.bungiemobile.debug://oauth-redir...</td>\n      <td>https://www.bungie.net</td>\n      <td>-1</td>\n      <td>NaN</td>\n      <td>1</td>\n      <td>2019-01-24T22:22:14.426Z</td>\n      <td>2019-01-24T22:22:14.426Z</td>\n      <td>2019-01-24T22:22:14.426Z</td>\n      <td>[]</td>\n    </tr>\n    <tr>\n      <th>3</th>\n      <td>29068</td>\n      <td>Android Google Play (release)</td>\n      <td>com.bungieinc.bungiemobile://oauth-redirect/bu...</td>\n      <td>https://www.bungie.net</td>\n      <td>-1</td>\n      <td>NaN</td>\n      <td>1</td>\n      <td>2019-01-24T22:22:14.426Z</td>\n      <td>2019-01-24T22:22:14.426Z</td>\n      <td>2019-01-24T22:22:14.426Z</td>\n      <td>[]</td>\n    </tr>\n    <tr>\n      <th>4</th>\n      <td>8752</td>\n      <td>Destiny 2 Companion (iOS)</td>\n      <td></td>\n      <td>https://www.bungie.net/</td>\n      <td>1</td>\n      <td></td>\n      <td>1</td>\n      <td>2016-05-19T20:20:45.945Z</td>\n      <td>2016-10-25T21:53:40.346Z</td>\n      <td>2016-05-19T20:20:45.945Z</td>\n      <td>[{'role': 1, 'apiEulaVersion': 1, 'user': {'su...</td>\n    </tr>\n    <tr>\n      <th>5</th>\n      <td>29065</td>\n      <td>iOS test version (debug and release)</td>\n      <td>com.bungie.bungienet://oauth-redirect/bungienet</td>\n      <td>https://www.bungie.net</td>\n      <td>-1</td>\n      <td>NaN</td>\n      <td>1</td>\n      <td>2019-01-24T22:22:14.411Z</td>\n      <td>2019-01-24T22:22:14.411Z</td>\n      <td>2019-01-24T22:22:14.411Z</td>\n      <td>[]</td>\n    </tr>\n    <tr>\n      <th>6</th>\n      <td>29066</td>\n      <td>iOS App Store version (distribution)</td>\n      <td>com.bungieinc.bungie://oauth-redirect/bungienet</td>\n      <td>https://www.bungie.net</td>\n      <td>-1</td>\n      <td>NaN</td>\n      <td>1</td>\n      <td>2019-01-24T22:22:14.426Z</td>\n      <td>2019-01-24T22:22:14.426Z</td>\n      <td>2019-01-24T22:22:14.426Z</td>\n      <td>[]</td>\n    </tr>\n  </tbody>\n</table>\n</div>"
     },
     "metadata": {},
     "execution_count": 18
    }
   ],
   "source": [
    "headers = { 'X-API-Key': '81db95d78e324528b98c4e0127b874be', \n",
    "            'User-Agent': 'The R.oB. Vault App/0.1 AppId/' + str(client_id)}\n",
    "r = requests.get('https://www.bungie.net/Platform/App/FirstParty', headers=headers)\n",
    "df = pd.json_normalize(r.json())\n",
    "pd.DataFrame(df['Response'][0])"
   ]
  },
  {
   "cell_type": "code",
   "execution_count": 19,
   "metadata": {},
   "outputs": [
    {
     "output_type": "stream",
     "name": "stdout",
     "text": [
      "                                                                      0\nmembershipId                                                    9945688\nuniqueName                                                    robcoolin\ndisplayName                                                     The RoB\nprofilePicture                                                    70614\nprofileTheme                                                        112\nuserTitle                                                             0\nsuccessMessageFlags                                                  33\nisDeleted                                                         False\nabout                 Lime like a boss. Born American. Father by cho...\nfirstAccess                                    2015-02-18T19:32:01.301Z\nlastUpdate                                     2021-03-01T01:14:24.946Z\npsnDisplayName                                                robcoolin\nshowActivity                                                       True\nlocale                                                               en\nlocaleInheritDefault                                               True\nshowGroupMessaging                                                 True\nprofilePicturePath            /img/profile/avatars/bungie_day_15_27.jpg\nprofileThemeName                                                d2cover\nuserTitleDisplay                                                 Newbie\nstatusText                                         Dragon seeks path...\nstatusDate                                     2015-12-15T12:55:24.664Z\nsteamDisplayName                                                 robert\n"
     ]
    }
   ],
   "source": [
    "r = requests.get('https://www.bungie.net/Platform/User/SearchUsers/', headers=headers, params={'q':'robcoolin'})\n",
    "df = pd.json_normalize(r.json())\n",
    "user = pd.DataFrame(df['Response'][0])\n",
    "print(user.transpose())"
   ]
  },
  {
   "cell_type": "code",
   "execution_count": 39,
   "metadata": {},
   "outputs": [],
   "source": [
    "r = requests.get('https://www.bungie.net/Platform//Destiny2/Manifest/', headers=headers)\n",
    "df = pd.json_normalize(r.json())\n",
    "manifest = df.transpose()\n",
    "manifest.rename(columns={0:'value'}, inplace=True)\n",
    "manifest['type'] = [ type(x) for x in manifest['value'] ]"
   ]
  },
  {
   "cell_type": "code",
   "execution_count": null,
   "metadata": {},
   "outputs": [],
   "source": []
  }
 ]
}